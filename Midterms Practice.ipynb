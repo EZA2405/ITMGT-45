{
 "cells": [
  {
   "cell_type": "code",
   "execution_count": 1,
   "id": "58bf35f5-c9d1-4b30-9cde-341f280962d4",
   "metadata": {},
   "outputs": [],
   "source": [
    "import pandas as pd"
   ]
  },
  {
   "cell_type": "code",
   "execution_count": 2,
   "id": "4209bb00-3412-4352-83fc-ac8a7fc764b3",
   "metadata": {},
   "outputs": [
    {
     "data": {
      "text/html": [
       "<div>\n",
       "<style scoped>\n",
       "    .dataframe tbody tr th:only-of-type {\n",
       "        vertical-align: middle;\n",
       "    }\n",
       "\n",
       "    .dataframe tbody tr th {\n",
       "        vertical-align: top;\n",
       "    }\n",
       "\n",
       "    .dataframe thead th {\n",
       "        text-align: right;\n",
       "    }\n",
       "</style>\n",
       "<table border=\"1\" class=\"dataframe\">\n",
       "  <thead>\n",
       "    <tr style=\"text-align: right;\">\n",
       "      <th></th>\n",
       "      <th>Date</th>\n",
       "      <th>Product</th>\n",
       "      <th>Price</th>\n",
       "      <th>Units</th>\n",
       "    </tr>\n",
       "  </thead>\n",
       "  <tbody>\n",
       "    <tr>\n",
       "      <th>0</th>\n",
       "      <td>1/1/22</td>\n",
       "      <td>Apples</td>\n",
       "      <td>0.50</td>\n",
       "      <td>10</td>\n",
       "    </tr>\n",
       "    <tr>\n",
       "      <th>1</th>\n",
       "      <td>1/2/22</td>\n",
       "      <td>Bananas</td>\n",
       "      <td>0.25</td>\n",
       "      <td>20</td>\n",
       "    </tr>\n",
       "    <tr>\n",
       "      <th>2</th>\n",
       "      <td>1/3/22</td>\n",
       "      <td>Oranges</td>\n",
       "      <td>0.75</td>\n",
       "      <td>15</td>\n",
       "    </tr>\n",
       "    <tr>\n",
       "      <th>3</th>\n",
       "      <td>1/4/22</td>\n",
       "      <td>Apples</td>\n",
       "      <td>0.60</td>\n",
       "      <td>12</td>\n",
       "    </tr>\n",
       "    <tr>\n",
       "      <th>4</th>\n",
       "      <td>1/5/22</td>\n",
       "      <td>Bananas</td>\n",
       "      <td>0.30</td>\n",
       "      <td>18</td>\n",
       "    </tr>\n",
       "    <tr>\n",
       "      <th>5</th>\n",
       "      <td>1/6/22</td>\n",
       "      <td>Oranges</td>\n",
       "      <td>0.80</td>\n",
       "      <td>20</td>\n",
       "    </tr>\n",
       "  </tbody>\n",
       "</table>\n",
       "</div>"
      ],
      "text/plain": [
       "     Date  Product  Price  Units\n",
       "0  1/1/22   Apples   0.50     10\n",
       "1  1/2/22  Bananas   0.25     20\n",
       "2  1/3/22  Oranges   0.75     15\n",
       "3  1/4/22   Apples   0.60     12\n",
       "4  1/5/22  Bananas   0.30     18\n",
       "5  1/6/22  Oranges   0.80     20"
      ]
     },
     "execution_count": 2,
     "metadata": {},
     "output_type": "execute_result"
    }
   ],
   "source": [
    "df = pd.read_csv('my_data.csv')\n",
    "\n",
    "df"
   ]
  },
  {
   "cell_type": "code",
   "execution_count": 21,
   "id": "ab87829e-cd76-491c-8519-98fd823e8f5c",
   "metadata": {},
   "outputs": [
    {
     "ename": "KeyError",
     "evalue": "\"['Units'] not in index\"",
     "output_type": "error",
     "traceback": [
      "\u001b[1;31m---------------------------------------------------------------------------\u001b[0m",
      "\u001b[1;31mKeyError\u001b[0m                                  Traceback (most recent call last)",
      "Cell \u001b[1;32mIn[21], line 1\u001b[0m\n\u001b[1;32m----> 1\u001b[0m subset_df \u001b[38;5;241m=\u001b[39m df[[\u001b[38;5;124m\"\u001b[39m\u001b[38;5;124mPrice\u001b[39m\u001b[38;5;124m\"\u001b[39m, \u001b[38;5;124m\"\u001b[39m\u001b[38;5;124mUnits\u001b[39m\u001b[38;5;124m\"\u001b[39m]]\n\u001b[0;32m      2\u001b[0m subset_df\n",
      "File \u001b[1;32m~\\anaconda3\\Lib\\site-packages\\pandas\\core\\frame.py:4108\u001b[0m, in \u001b[0;36mDataFrame.__getitem__\u001b[1;34m(self, key)\u001b[0m\n\u001b[0;32m   4106\u001b[0m     \u001b[38;5;28;01mif\u001b[39;00m is_iterator(key):\n\u001b[0;32m   4107\u001b[0m         key \u001b[38;5;241m=\u001b[39m \u001b[38;5;28mlist\u001b[39m(key)\n\u001b[1;32m-> 4108\u001b[0m     indexer \u001b[38;5;241m=\u001b[39m \u001b[38;5;28mself\u001b[39m\u001b[38;5;241m.\u001b[39mcolumns\u001b[38;5;241m.\u001b[39m_get_indexer_strict(key, \u001b[38;5;124m\"\u001b[39m\u001b[38;5;124mcolumns\u001b[39m\u001b[38;5;124m\"\u001b[39m)[\u001b[38;5;241m1\u001b[39m]\n\u001b[0;32m   4110\u001b[0m \u001b[38;5;66;03m# take() does not accept boolean indexers\u001b[39;00m\n\u001b[0;32m   4111\u001b[0m \u001b[38;5;28;01mif\u001b[39;00m \u001b[38;5;28mgetattr\u001b[39m(indexer, \u001b[38;5;124m\"\u001b[39m\u001b[38;5;124mdtype\u001b[39m\u001b[38;5;124m\"\u001b[39m, \u001b[38;5;28;01mNone\u001b[39;00m) \u001b[38;5;241m==\u001b[39m \u001b[38;5;28mbool\u001b[39m:\n",
      "File \u001b[1;32m~\\anaconda3\\Lib\\site-packages\\pandas\\core\\indexes\\base.py:6200\u001b[0m, in \u001b[0;36mIndex._get_indexer_strict\u001b[1;34m(self, key, axis_name)\u001b[0m\n\u001b[0;32m   6197\u001b[0m \u001b[38;5;28;01melse\u001b[39;00m:\n\u001b[0;32m   6198\u001b[0m     keyarr, indexer, new_indexer \u001b[38;5;241m=\u001b[39m \u001b[38;5;28mself\u001b[39m\u001b[38;5;241m.\u001b[39m_reindex_non_unique(keyarr)\n\u001b[1;32m-> 6200\u001b[0m \u001b[38;5;28mself\u001b[39m\u001b[38;5;241m.\u001b[39m_raise_if_missing(keyarr, indexer, axis_name)\n\u001b[0;32m   6202\u001b[0m keyarr \u001b[38;5;241m=\u001b[39m \u001b[38;5;28mself\u001b[39m\u001b[38;5;241m.\u001b[39mtake(indexer)\n\u001b[0;32m   6203\u001b[0m \u001b[38;5;28;01mif\u001b[39;00m \u001b[38;5;28misinstance\u001b[39m(key, Index):\n\u001b[0;32m   6204\u001b[0m     \u001b[38;5;66;03m# GH 42790 - Preserve name from an Index\u001b[39;00m\n",
      "File \u001b[1;32m~\\anaconda3\\Lib\\site-packages\\pandas\\core\\indexes\\base.py:6252\u001b[0m, in \u001b[0;36mIndex._raise_if_missing\u001b[1;34m(self, key, indexer, axis_name)\u001b[0m\n\u001b[0;32m   6249\u001b[0m     \u001b[38;5;28;01mraise\u001b[39;00m \u001b[38;5;167;01mKeyError\u001b[39;00m(\u001b[38;5;124mf\u001b[39m\u001b[38;5;124m\"\u001b[39m\u001b[38;5;124mNone of [\u001b[39m\u001b[38;5;132;01m{\u001b[39;00mkey\u001b[38;5;132;01m}\u001b[39;00m\u001b[38;5;124m] are in the [\u001b[39m\u001b[38;5;132;01m{\u001b[39;00maxis_name\u001b[38;5;132;01m}\u001b[39;00m\u001b[38;5;124m]\u001b[39m\u001b[38;5;124m\"\u001b[39m)\n\u001b[0;32m   6251\u001b[0m not_found \u001b[38;5;241m=\u001b[39m \u001b[38;5;28mlist\u001b[39m(ensure_index(key)[missing_mask\u001b[38;5;241m.\u001b[39mnonzero()[\u001b[38;5;241m0\u001b[39m]]\u001b[38;5;241m.\u001b[39munique())\n\u001b[1;32m-> 6252\u001b[0m \u001b[38;5;28;01mraise\u001b[39;00m \u001b[38;5;167;01mKeyError\u001b[39;00m(\u001b[38;5;124mf\u001b[39m\u001b[38;5;124m\"\u001b[39m\u001b[38;5;132;01m{\u001b[39;00mnot_found\u001b[38;5;132;01m}\u001b[39;00m\u001b[38;5;124m not in index\u001b[39m\u001b[38;5;124m\"\u001b[39m)\n",
      "\u001b[1;31mKeyError\u001b[0m: \"['Units'] not in index\""
     ]
    }
   ],
   "source": [
    "subset_df = df[[\"Price\", \"Units\"]]\n",
    "subset_df"
   ]
  },
  {
   "cell_type": "code",
   "execution_count": null,
   "id": "d831a3b4-cc5c-4fcd-8e29-9e2769221dac",
   "metadata": {},
   "outputs": [],
   "source": [
    "units_column = df[[\"Units\"]]\n",
    "units_column"
   ]
  },
  {
   "cell_type": "code",
   "execution_count": null,
   "id": "4ca38360-5896-42e4-8fdd-e2caca92ca92",
   "metadata": {},
   "outputs": [],
   "source": [
    "first_3_rows = df.loc[0:2] # These slices are inclusive\n",
    "first_3_rows\n",
    "first_3_rows_sales_data = df.loc[0:2,['Price', 'Units']] #syntax df.loc[rows, columns]\n",
    "first_3_rows_sales_data"
   ]
  },
  {
   "cell_type": "code",
   "execution_count": null,
   "id": "92e07908-2302-420c-8641-3cfa490388a9",
   "metadata": {},
   "outputs": [],
   "source": [
    "saless = df.iloc[0:3, 2:4] # Exclusive this time\n",
    "saless"
   ]
  },
  {
   "cell_type": "code",
   "execution_count": null,
   "id": "15b9addd-9aa9-4591-9c12-f6f41fdda3d9",
   "metadata": {},
   "outputs": [],
   "source": [
    "peso_prices = []\n",
    "\n",
    "for price in df['Price']:\n",
    "    peso_prices.append(price * 55)\n",
    "\n",
    "df['Price'] = peso_prices\n",
    "df"
   ]
  },
  {
   "cell_type": "code",
   "execution_count": null,
   "id": "50e03125-dfe9-4b37-afde-b21713c5b27f",
   "metadata": {},
   "outputs": [],
   "source": [
    "df['Total'] = df['Price'] * df['Units']\n",
    "df"
   ]
  },
  {
   "cell_type": "code",
   "execution_count": null,
   "id": "c344c506-6a89-44a1-9030-97ed170c2d7f",
   "metadata": {},
   "outputs": [],
   "source": [
    "df = df.rename(columns={'Units':'Quantity'})\n",
    "df"
   ]
  },
  {
   "cell_type": "code",
   "execution_count": null,
   "id": "afbe3c7c-209f-4553-ae4b-ad75b7a1a934",
   "metadata": {},
   "outputs": [],
   "source": [
    "uppercase_products = []\n",
    "\n",
    "for product in df['Product']:\n",
    "    uppercase_products.append(product.upper())\n",
    "\n",
    "df['Product'] = uppercase_products\n",
    "df"
   ]
  },
  {
   "cell_type": "code",
   "execution_count": null,
   "id": "0fcc5296-f7a7-47b3-a9c8-cb43fda1148a",
   "metadata": {},
   "outputs": [],
   "source": [
    "df['Product'] = df['Product'].str.lower()\n",
    "df"
   ]
  },
  {
   "cell_type": "code",
   "execution_count": null,
   "id": "e376385a-7045-4777-a900-4067c363256a",
   "metadata": {},
   "outputs": [],
   "source": [
    "def multiply(index,multiplier):\n",
    "    number = index * multiplier\n",
    "    return number"
   ]
  },
  {
   "cell_type": "code",
   "execution_count": null,
   "id": "09ed9e8b-a6ac-4653-8a8c-cec9fbff5118",
   "metadata": {},
   "outputs": [],
   "source": [
    "df['Price'] = df['Price'].apply(multiply, multiplier = 2)\n",
    "df"
   ]
  },
  {
   "cell_type": "code",
   "execution_count": null,
   "id": "a8311acf-a007-4335-bd1c-197413ac2698",
   "metadata": {},
   "outputs": [],
   "source": [
    "df['expensive'] = df['Price'] > 60\n",
    "df"
   ]
  },
  {
   "cell_type": "code",
   "execution_count": 22,
   "id": "f01a5d97-7565-4da7-9e6e-f4f352bf859e",
   "metadata": {},
   "outputs": [
    {
     "data": {
      "text/html": [
       "<div>\n",
       "<style scoped>\n",
       "    .dataframe tbody tr th:only-of-type {\n",
       "        vertical-align: middle;\n",
       "    }\n",
       "\n",
       "    .dataframe tbody tr th {\n",
       "        vertical-align: top;\n",
       "    }\n",
       "\n",
       "    .dataframe thead th {\n",
       "        text-align: right;\n",
       "    }\n",
       "</style>\n",
       "<table border=\"1\" class=\"dataframe\">\n",
       "  <thead>\n",
       "    <tr style=\"text-align: right;\">\n",
       "      <th></th>\n",
       "      <th>Date</th>\n",
       "      <th>Product</th>\n",
       "      <th>Price</th>\n",
       "      <th>Quantity</th>\n",
       "      <th>Total</th>\n",
       "      <th>expensive</th>\n",
       "    </tr>\n",
       "  </thead>\n",
       "  <tbody>\n",
       "    <tr>\n",
       "      <th>2</th>\n",
       "      <td>1/3/22</td>\n",
       "      <td>oranges</td>\n",
       "      <td>82.5</td>\n",
       "      <td>15</td>\n",
       "      <td>618.75</td>\n",
       "      <td>True</td>\n",
       "    </tr>\n",
       "    <tr>\n",
       "      <th>3</th>\n",
       "      <td>1/4/22</td>\n",
       "      <td>apples</td>\n",
       "      <td>66.0</td>\n",
       "      <td>12</td>\n",
       "      <td>396.00</td>\n",
       "      <td>True</td>\n",
       "    </tr>\n",
       "    <tr>\n",
       "      <th>5</th>\n",
       "      <td>1/6/22</td>\n",
       "      <td>oranges</td>\n",
       "      <td>88.0</td>\n",
       "      <td>20</td>\n",
       "      <td>880.00</td>\n",
       "      <td>True</td>\n",
       "    </tr>\n",
       "  </tbody>\n",
       "</table>\n",
       "</div>"
      ],
      "text/plain": [
       "     Date  Product  Price  Quantity   Total  expensive\n",
       "2  1/3/22  oranges   82.5        15  618.75       True\n",
       "3  1/4/22   apples   66.0        12  396.00       True\n",
       "5  1/6/22  oranges   88.0        20  880.00       True"
      ]
     },
     "execution_count": 22,
     "metadata": {},
     "output_type": "execute_result"
    }
   ],
   "source": [
    "df[df['expensive']]"
   ]
  },
  {
   "cell_type": "code",
   "execution_count": 23,
   "id": "cb6ba08c-76a7-4b12-9c98-ea280e345fe7",
   "metadata": {},
   "outputs": [
    {
     "data": {
      "text/plain": [
       "np.int64(47)"
      ]
     },
     "execution_count": 23,
     "metadata": {},
     "output_type": "execute_result"
    }
   ],
   "source": [
    "expensive_quantity = df.loc[df['expensive'], 'Quantity'].sum()\n",
    "expensive_quantity"
   ]
  },
  {
   "cell_type": "code",
   "execution_count": 24,
   "id": "bfa816a4-2343-4605-a483-cc6b9545ac04",
   "metadata": {},
   "outputs": [
    {
     "data": {
      "text/plain": [
       "np.float64(1894.75)"
      ]
     },
     "execution_count": 24,
     "metadata": {},
     "output_type": "execute_result"
    }
   ],
   "source": [
    "expensive_sold = df.loc[df['expensive'], 'Total'].sum()\n",
    "expensive_sold"
   ]
  },
  {
   "cell_type": "code",
   "execution_count": 31,
   "id": "fded5a14-3f1f-4d69-a973-6677ce8a1f44",
   "metadata": {},
   "outputs": [
    {
     "data": {
      "text/html": [
       "<div>\n",
       "<style scoped>\n",
       "    .dataframe tbody tr th:only-of-type {\n",
       "        vertical-align: middle;\n",
       "    }\n",
       "\n",
       "    .dataframe tbody tr th {\n",
       "        vertical-align: top;\n",
       "    }\n",
       "\n",
       "    .dataframe thead th {\n",
       "        text-align: right;\n",
       "    }\n",
       "</style>\n",
       "<table border=\"1\" class=\"dataframe\">\n",
       "  <thead>\n",
       "    <tr style=\"text-align: right;\">\n",
       "      <th></th>\n",
       "      <th>Date</th>\n",
       "      <th>Price</th>\n",
       "      <th>Quantity</th>\n",
       "      <th>Total</th>\n",
       "      <th>expensive</th>\n",
       "    </tr>\n",
       "    <tr>\n",
       "      <th>Product</th>\n",
       "      <th></th>\n",
       "      <th></th>\n",
       "      <th></th>\n",
       "      <th></th>\n",
       "      <th></th>\n",
       "    </tr>\n",
       "  </thead>\n",
       "  <tbody>\n",
       "    <tr>\n",
       "      <th>apples</th>\n",
       "      <td>1/1/221/4/22</td>\n",
       "      <td>121.0</td>\n",
       "      <td>22</td>\n",
       "      <td>671.00</td>\n",
       "      <td>1</td>\n",
       "    </tr>\n",
       "    <tr>\n",
       "      <th>bananas</th>\n",
       "      <td>1/2/221/5/22</td>\n",
       "      <td>60.5</td>\n",
       "      <td>38</td>\n",
       "      <td>572.00</td>\n",
       "      <td>0</td>\n",
       "    </tr>\n",
       "    <tr>\n",
       "      <th>oranges</th>\n",
       "      <td>1/3/221/6/22</td>\n",
       "      <td>170.5</td>\n",
       "      <td>35</td>\n",
       "      <td>1498.75</td>\n",
       "      <td>2</td>\n",
       "    </tr>\n",
       "  </tbody>\n",
       "</table>\n",
       "</div>"
      ],
      "text/plain": [
       "                 Date  Price  Quantity    Total  expensive\n",
       "Product                                                   \n",
       "apples   1/1/221/4/22  121.0        22   671.00          1\n",
       "bananas  1/2/221/5/22   60.5        38   572.00          0\n",
       "oranges  1/3/221/6/22  170.5        35  1498.75          2"
      ]
     },
     "execution_count": 31,
     "metadata": {},
     "output_type": "execute_result"
    }
   ],
   "source": [
    "df_products = df.groupby('Product').sum()\n",
    "df_products"
   ]
  },
  {
   "cell_type": "code",
   "execution_count": 27,
   "id": "fd576648-abaf-46fa-a93a-9ebcfa13ba3c",
   "metadata": {},
   "outputs": [
    {
     "data": {
      "text/html": [
       "<div>\n",
       "<style scoped>\n",
       "    .dataframe tbody tr th:only-of-type {\n",
       "        vertical-align: middle;\n",
       "    }\n",
       "\n",
       "    .dataframe tbody tr th {\n",
       "        vertical-align: top;\n",
       "    }\n",
       "\n",
       "    .dataframe thead th {\n",
       "        text-align: right;\n",
       "    }\n",
       "</style>\n",
       "<table border=\"1\" class=\"dataframe\">\n",
       "  <thead>\n",
       "    <tr style=\"text-align: right;\">\n",
       "      <th></th>\n",
       "      <th>Date</th>\n",
       "      <th>Product</th>\n",
       "      <th>Price</th>\n",
       "      <th>Quantity</th>\n",
       "      <th>Total</th>\n",
       "      <th>expensive</th>\n",
       "    </tr>\n",
       "  </thead>\n",
       "  <tbody>\n",
       "    <tr>\n",
       "      <th>0</th>\n",
       "      <td>1/1/22</td>\n",
       "      <td>apples</td>\n",
       "      <td>55.0</td>\n",
       "      <td>10</td>\n",
       "      <td>275.00</td>\n",
       "      <td>False</td>\n",
       "    </tr>\n",
       "    <tr>\n",
       "      <th>1</th>\n",
       "      <td>1/2/22</td>\n",
       "      <td>bananas</td>\n",
       "      <td>27.5</td>\n",
       "      <td>20</td>\n",
       "      <td>275.00</td>\n",
       "      <td>False</td>\n",
       "    </tr>\n",
       "    <tr>\n",
       "      <th>2</th>\n",
       "      <td>1/3/22</td>\n",
       "      <td>oranges</td>\n",
       "      <td>82.5</td>\n",
       "      <td>15</td>\n",
       "      <td>618.75</td>\n",
       "      <td>True</td>\n",
       "    </tr>\n",
       "    <tr>\n",
       "      <th>3</th>\n",
       "      <td>1/4/22</td>\n",
       "      <td>apples</td>\n",
       "      <td>66.0</td>\n",
       "      <td>12</td>\n",
       "      <td>396.00</td>\n",
       "      <td>True</td>\n",
       "    </tr>\n",
       "    <tr>\n",
       "      <th>4</th>\n",
       "      <td>1/5/22</td>\n",
       "      <td>bananas</td>\n",
       "      <td>33.0</td>\n",
       "      <td>18</td>\n",
       "      <td>297.00</td>\n",
       "      <td>False</td>\n",
       "    </tr>\n",
       "    <tr>\n",
       "      <th>5</th>\n",
       "      <td>1/6/22</td>\n",
       "      <td>oranges</td>\n",
       "      <td>88.0</td>\n",
       "      <td>20</td>\n",
       "      <td>880.00</td>\n",
       "      <td>True</td>\n",
       "    </tr>\n",
       "  </tbody>\n",
       "</table>\n",
       "</div>"
      ],
      "text/plain": [
       "     Date  Product  Price  Quantity   Total  expensive\n",
       "0  1/1/22   apples   55.0        10  275.00      False\n",
       "1  1/2/22  bananas   27.5        20  275.00      False\n",
       "2  1/3/22  oranges   82.5        15  618.75       True\n",
       "3  1/4/22   apples   66.0        12  396.00       True\n",
       "4  1/5/22  bananas   33.0        18  297.00      False\n",
       "5  1/6/22  oranges   88.0        20  880.00       True"
      ]
     },
     "execution_count": 27,
     "metadata": {},
     "output_type": "execute_result"
    }
   ],
   "source": []
  },
  {
   "cell_type": "code",
   "execution_count": null,
   "id": "d01ff3a5-8470-4beb-95d3-632e0aa2d75d",
   "metadata": {},
   "outputs": [],
   "source": []
  }
 ],
 "metadata": {
  "kernelspec": {
   "display_name": "Python [conda env:base] *",
   "language": "python",
   "name": "conda-base-py"
  },
  "language_info": {
   "codemirror_mode": {
    "name": "ipython",
    "version": 3
   },
   "file_extension": ".py",
   "mimetype": "text/x-python",
   "name": "python",
   "nbconvert_exporter": "python",
   "pygments_lexer": "ipython3",
   "version": "3.13.5"
  }
 },
 "nbformat": 4,
 "nbformat_minor": 5
}
