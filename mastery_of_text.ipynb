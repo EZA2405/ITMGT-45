{
 "cells": [
  {
   "cell_type": "code",
   "execution_count": 1,
   "id": "0102bd0f-5315-45cf-915f-6eb61f57f6c2",
   "metadata": {},
   "outputs": [
    {
     "name": "stdout",
     "output_type": "stream",
     "text": [
      "No. of Lines: 99968\n",
      "No. of Words: 793395\n",
      "No. of Apostle: 47\n",
      "Most Common Word: the\n"
     ]
    }
   ],
   "source": [
    "import urllib.request\n",
    "url = \"https://www.gutenberg.org/cache/epub/10/pg10.txt\"\n",
    "response = urllib.request.urlopen(url)\n",
    "pg10 = response.read().decode(\"utf-8\").lower()\n",
    "words = [\"\".join(ch for ch in part if ch.isalpha()) for part in pg10.split()]\n",
    "words = [w for w in words if w]\n",
    "print(\"No. of Lines:\", len(pg10.splitlines()))\n",
    "print(\"No. of Words:\", len(words))\n",
    "print(\"No. of Apostle:\", words.count(\"apostle\"))\n",
    "counts = {}\n",
    "for w in words:\n",
    "    counts[w] = counts.get(w, 0) + 1\n",
    "print(\"Most Common Word:\", max(counts, key=counts.get))\n"
   ]
  },
  {
   "cell_type": "code",
   "execution_count": null,
   "id": "4cc75a34-e346-493b-9547-a4186a7566e4",
   "metadata": {},
   "outputs": [],
   "source": []
  }
 ],
 "metadata": {
  "kernelspec": {
   "display_name": "Python [conda env:base] *",
   "language": "python",
   "name": "conda-base-py"
  },
  "language_info": {
   "codemirror_mode": {
    "name": "ipython",
    "version": 3
   },
   "file_extension": ".py",
   "mimetype": "text/x-python",
   "name": "python",
   "nbconvert_exporter": "python",
   "pygments_lexer": "ipython3",
   "version": "3.13.5"
  }
 },
 "nbformat": 4,
 "nbformat_minor": 5
}
